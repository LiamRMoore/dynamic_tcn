{
 "cells": [
  {
   "cell_type": "code",
   "execution_count": 1,
   "id": "cf5627e7",
   "metadata": {},
   "outputs": [],
   "source": [
    "import sys\n",
    "sys.path.insert(0, \"..\")\n",
    "\n",
    "import numpy as np\n",
    "import tensorflow as tf\n",
    "import tensorflow.keras.layers as L\n",
    "from tensorflow.keras import Model\n",
    "\n",
    "from dynamic_tcn import DynamicTCN\n",
    "from classifier import dynamic_tcn_classifier"
   ]
  },
  {
   "cell_type": "code",
   "execution_count": 2,
   "id": "1abba51e",
   "metadata": {},
   "outputs": [],
   "source": [
    "dtcn = DynamicTCN(use_dynamic_conv=True, use_cbam=True)"
   ]
  },
  {
   "cell_type": "code",
   "execution_count": 3,
   "id": "815a9a94",
   "metadata": {},
   "outputs": [],
   "source": [
    "X = np.random.rand(100, 200, 3)\n",
    "y = (np.random.rand(100) > 0.5).astype(np.uint8)"
   ]
  },
  {
   "cell_type": "code",
   "execution_count": 4,
   "id": "e8bd9ec5",
   "metadata": {},
   "outputs": [],
   "source": [
    "clf = dynamic_tcn_classifier(input_shape=(None, 3), batch_size=4)"
   ]
  },
  {
   "cell_type": "code",
   "execution_count": 5,
   "id": "24104c4b",
   "metadata": {},
   "outputs": [],
   "source": [
    "clf.compile(optimizer=tf.keras.optimizers.Adam(1e-4), loss=\"mse\")"
   ]
  },
  {
   "cell_type": "code",
   "execution_count": 6,
   "id": "9f5d8561",
   "metadata": {},
   "outputs": [
    {
     "name": "stdout",
     "output_type": "stream",
     "text": [
      "25/25 [==============================] - 60s 86ms/step - loss: 0.4059\n"
     ]
    },
    {
     "data": {
      "text/plain": [
       "<tensorflow.python.keras.callbacks.History at 0x7ff1d01cab50>"
      ]
     },
     "execution_count": 6,
     "metadata": {},
     "output_type": "execute_result"
    }
   ],
   "source": [
    "clf.fit(X, y, batch_size=4, epochs=1)"
   ]
  },
  {
   "cell_type": "code",
   "execution_count": 7,
   "id": "be9eb498",
   "metadata": {},
   "outputs": [
    {
     "data": {
      "text/plain": [
       "[<tensorflow.python.keras.engine.input_layer.InputLayer at 0x7ff241362790>,\n",
       " <dynamic_tcn.DynamicTCN at 0x7ff241b96100>,\n",
       " <tensorflow.python.keras.layers.core.Dense at 0x7ff2fd778b20>]"
      ]
     },
     "execution_count": 7,
     "metadata": {},
     "output_type": "execute_result"
    }
   ],
   "source": [
    "clf.layers"
   ]
  },
  {
   "cell_type": "code",
   "execution_count": null,
   "id": "c0eeb3b7",
   "metadata": {},
   "outputs": [],
   "source": []
  }
 ],
 "metadata": {
  "kernelspec": {
   "display_name": "Python 3",
   "language": "python",
   "name": "python3"
  },
  "language_info": {
   "codemirror_mode": {
    "name": "ipython",
    "version": 3
   },
   "file_extension": ".py",
   "mimetype": "text/x-python",
   "name": "python",
   "nbconvert_exporter": "python",
   "pygments_lexer": "ipython3",
   "version": "3.8.11"
  }
 },
 "nbformat": 4,
 "nbformat_minor": 5
}
